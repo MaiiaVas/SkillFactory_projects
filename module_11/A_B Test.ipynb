{
 "cells": [
  {
   "cell_type": "code",
   "execution_count": 1,
   "id": "cb06fc74",
   "metadata": {},
   "outputs": [],
   "source": [
    "import pandas as pd\n",
    "import numpy as np\n",
    "import math\n",
    "\n",
    "import seaborn as sns\n",
    "import matplotlib.pyplot as plt\n",
    "\n",
    "from scipy.stats import shapiro\n",
    "from statsmodels.stats.proportion import proportions_ztest\n",
    "from scipy.stats import ttest_ind"
   ]
  },
  {
   "cell_type": "code",
   "execution_count": 2,
   "id": "41c36fc1",
   "metadata": {},
   "outputs": [],
   "source": [
    "sample_a = pd.read_csv('sample_a.csv')\n",
    "sample_b = pd.read_csv('sample_b.csv')\n",
    "sample_c = pd.read_csv('sample_c.csv')\n",
    "item_prices = pd.read_csv('item_prices.csv')"
   ]
  },
  {
   "cell_type": "code",
   "execution_count": 3,
   "id": "cde53926",
   "metadata": {},
   "outputs": [
    {
     "data": {
      "text/plain": [
       "(1188912, 3)"
      ]
     },
     "execution_count": 3,
     "metadata": {},
     "output_type": "execute_result"
    }
   ],
   "source": [
    "sample_a.shape"
   ]
  },
  {
   "cell_type": "code",
   "execution_count": 4,
   "id": "5a3fb985",
   "metadata": {},
   "outputs": [
    {
     "data": {
      "text/html": [
       "<div>\n",
       "<style scoped>\n",
       "    .dataframe tbody tr th:only-of-type {\n",
       "        vertical-align: middle;\n",
       "    }\n",
       "\n",
       "    .dataframe tbody tr th {\n",
       "        vertical-align: top;\n",
       "    }\n",
       "\n",
       "    .dataframe thead th {\n",
       "        text-align: right;\n",
       "    }\n",
       "</style>\n",
       "<table border=\"1\" class=\"dataframe\">\n",
       "  <thead>\n",
       "    <tr style=\"text-align: right;\">\n",
       "      <th></th>\n",
       "      <th>user_id</th>\n",
       "      <th>item_id</th>\n",
       "      <th>action_id</th>\n",
       "    </tr>\n",
       "  </thead>\n",
       "  <tbody>\n",
       "    <tr>\n",
       "      <th>0</th>\n",
       "      <td>84636</td>\n",
       "      <td>360</td>\n",
       "      <td>1</td>\n",
       "    </tr>\n",
       "    <tr>\n",
       "      <th>1</th>\n",
       "      <td>21217</td>\n",
       "      <td>9635</td>\n",
       "      <td>1</td>\n",
       "    </tr>\n",
       "    <tr>\n",
       "      <th>2</th>\n",
       "      <td>13445</td>\n",
       "      <td>8590</td>\n",
       "      <td>1</td>\n",
       "    </tr>\n",
       "    <tr>\n",
       "      <th>3</th>\n",
       "      <td>38450</td>\n",
       "      <td>5585</td>\n",
       "      <td>1</td>\n",
       "    </tr>\n",
       "    <tr>\n",
       "      <th>4</th>\n",
       "      <td>14160</td>\n",
       "      <td>2383</td>\n",
       "      <td>0</td>\n",
       "    </tr>\n",
       "    <tr>\n",
       "      <th>...</th>\n",
       "      <td>...</td>\n",
       "      <td>...</td>\n",
       "      <td>...</td>\n",
       "    </tr>\n",
       "    <tr>\n",
       "      <th>1188907</th>\n",
       "      <td>22999</td>\n",
       "      <td>2401</td>\n",
       "      <td>1</td>\n",
       "    </tr>\n",
       "    <tr>\n",
       "      <th>1188908</th>\n",
       "      <td>23700</td>\n",
       "      <td>4654</td>\n",
       "      <td>0</td>\n",
       "    </tr>\n",
       "    <tr>\n",
       "      <th>1188909</th>\n",
       "      <td>18842</td>\n",
       "      <td>3707</td>\n",
       "      <td>1</td>\n",
       "    </tr>\n",
       "    <tr>\n",
       "      <th>1188910</th>\n",
       "      <td>32732</td>\n",
       "      <td>9198</td>\n",
       "      <td>1</td>\n",
       "    </tr>\n",
       "    <tr>\n",
       "      <th>1188911</th>\n",
       "      <td>89340</td>\n",
       "      <td>1132</td>\n",
       "      <td>1</td>\n",
       "    </tr>\n",
       "  </tbody>\n",
       "</table>\n",
       "<p>1188912 rows × 3 columns</p>\n",
       "</div>"
      ],
      "text/plain": [
       "         user_id  item_id  action_id\n",
       "0          84636      360          1\n",
       "1          21217     9635          1\n",
       "2          13445     8590          1\n",
       "3          38450     5585          1\n",
       "4          14160     2383          0\n",
       "...          ...      ...        ...\n",
       "1188907    22999     2401          1\n",
       "1188908    23700     4654          0\n",
       "1188909    18842     3707          1\n",
       "1188910    32732     9198          1\n",
       "1188911    89340     1132          1\n",
       "\n",
       "[1188912 rows x 3 columns]"
      ]
     },
     "execution_count": 4,
     "metadata": {},
     "output_type": "execute_result"
    }
   ],
   "source": [
    "sample_a"
   ]
  },
  {
   "cell_type": "code",
   "execution_count": 5,
   "id": "d9048798",
   "metadata": {},
   "outputs": [
    {
     "name": "stdout",
     "output_type": "stream",
     "text": [
      "<class 'pandas.core.frame.DataFrame'>\n",
      "RangeIndex: 1188912 entries, 0 to 1188911\n",
      "Data columns (total 3 columns):\n",
      " #   Column     Non-Null Count    Dtype\n",
      "---  ------     --------------    -----\n",
      " 0   user_id    1188912 non-null  int64\n",
      " 1   item_id    1188912 non-null  int64\n",
      " 2   action_id  1188912 non-null  int64\n",
      "dtypes: int64(3)\n",
      "memory usage: 27.2 MB\n"
     ]
    }
   ],
   "source": [
    "sample_a.info()"
   ]
  },
  {
   "cell_type": "code",
   "execution_count": 6,
   "id": "e7a0fbcc",
   "metadata": {},
   "outputs": [
    {
     "data": {
      "text/plain": [
       "(1198438, 3)"
      ]
     },
     "execution_count": 6,
     "metadata": {},
     "output_type": "execute_result"
    }
   ],
   "source": [
    "sample_b.shape"
   ]
  },
  {
   "cell_type": "code",
   "execution_count": 7,
   "id": "375af4ba",
   "metadata": {},
   "outputs": [
    {
     "data": {
      "text/html": [
       "<div>\n",
       "<style scoped>\n",
       "    .dataframe tbody tr th:only-of-type {\n",
       "        vertical-align: middle;\n",
       "    }\n",
       "\n",
       "    .dataframe tbody tr th {\n",
       "        vertical-align: top;\n",
       "    }\n",
       "\n",
       "    .dataframe thead th {\n",
       "        text-align: right;\n",
       "    }\n",
       "</style>\n",
       "<table border=\"1\" class=\"dataframe\">\n",
       "  <thead>\n",
       "    <tr style=\"text-align: right;\">\n",
       "      <th></th>\n",
       "      <th>user_id</th>\n",
       "      <th>item_id</th>\n",
       "      <th>action_id</th>\n",
       "    </tr>\n",
       "  </thead>\n",
       "  <tbody>\n",
       "    <tr>\n",
       "      <th>0</th>\n",
       "      <td>118375</td>\n",
       "      <td>4105</td>\n",
       "      <td>1</td>\n",
       "    </tr>\n",
       "    <tr>\n",
       "      <th>1</th>\n",
       "      <td>107569</td>\n",
       "      <td>8204</td>\n",
       "      <td>1</td>\n",
       "    </tr>\n",
       "    <tr>\n",
       "      <th>2</th>\n",
       "      <td>175990</td>\n",
       "      <td>880</td>\n",
       "      <td>1</td>\n",
       "    </tr>\n",
       "    <tr>\n",
       "      <th>3</th>\n",
       "      <td>160582</td>\n",
       "      <td>9568</td>\n",
       "      <td>0</td>\n",
       "    </tr>\n",
       "    <tr>\n",
       "      <th>4</th>\n",
       "      <td>123400</td>\n",
       "      <td>4000</td>\n",
       "      <td>1</td>\n",
       "    </tr>\n",
       "    <tr>\n",
       "      <th>...</th>\n",
       "      <td>...</td>\n",
       "      <td>...</td>\n",
       "      <td>...</td>\n",
       "    </tr>\n",
       "    <tr>\n",
       "      <th>1198433</th>\n",
       "      <td>184760</td>\n",
       "      <td>2645</td>\n",
       "      <td>1</td>\n",
       "    </tr>\n",
       "    <tr>\n",
       "      <th>1198434</th>\n",
       "      <td>163544</td>\n",
       "      <td>1371</td>\n",
       "      <td>2</td>\n",
       "    </tr>\n",
       "    <tr>\n",
       "      <th>1198435</th>\n",
       "      <td>153724</td>\n",
       "      <td>3788</td>\n",
       "      <td>1</td>\n",
       "    </tr>\n",
       "    <tr>\n",
       "      <th>1198436</th>\n",
       "      <td>176308</td>\n",
       "      <td>4164</td>\n",
       "      <td>1</td>\n",
       "    </tr>\n",
       "    <tr>\n",
       "      <th>1198437</th>\n",
       "      <td>114718</td>\n",
       "      <td>1673</td>\n",
       "      <td>1</td>\n",
       "    </tr>\n",
       "  </tbody>\n",
       "</table>\n",
       "<p>1198438 rows × 3 columns</p>\n",
       "</div>"
      ],
      "text/plain": [
       "         user_id  item_id  action_id\n",
       "0         118375     4105          1\n",
       "1         107569     8204          1\n",
       "2         175990      880          1\n",
       "3         160582     9568          0\n",
       "4         123400     4000          1\n",
       "...          ...      ...        ...\n",
       "1198433   184760     2645          1\n",
       "1198434   163544     1371          2\n",
       "1198435   153724     3788          1\n",
       "1198436   176308     4164          1\n",
       "1198437   114718     1673          1\n",
       "\n",
       "[1198438 rows x 3 columns]"
      ]
     },
     "execution_count": 7,
     "metadata": {},
     "output_type": "execute_result"
    }
   ],
   "source": [
    "sample_b"
   ]
  },
  {
   "cell_type": "code",
   "execution_count": 8,
   "id": "669f371b",
   "metadata": {},
   "outputs": [
    {
     "name": "stdout",
     "output_type": "stream",
     "text": [
      "<class 'pandas.core.frame.DataFrame'>\n",
      "RangeIndex: 1198438 entries, 0 to 1198437\n",
      "Data columns (total 3 columns):\n",
      " #   Column     Non-Null Count    Dtype\n",
      "---  ------     --------------    -----\n",
      " 0   user_id    1198438 non-null  int64\n",
      " 1   item_id    1198438 non-null  int64\n",
      " 2   action_id  1198438 non-null  int64\n",
      "dtypes: int64(3)\n",
      "memory usage: 27.4 MB\n"
     ]
    }
   ],
   "source": [
    "sample_b.info()"
   ]
  },
  {
   "cell_type": "code",
   "execution_count": 9,
   "id": "ceeb5e2d",
   "metadata": {},
   "outputs": [
    {
     "data": {
      "text/plain": [
       "(1205510, 3)"
      ]
     },
     "execution_count": 9,
     "metadata": {},
     "output_type": "execute_result"
    }
   ],
   "source": [
    "sample_c.shape"
   ]
  },
  {
   "cell_type": "code",
   "execution_count": 10,
   "id": "a9012f8b",
   "metadata": {},
   "outputs": [
    {
     "data": {
      "text/html": [
       "<div>\n",
       "<style scoped>\n",
       "    .dataframe tbody tr th:only-of-type {\n",
       "        vertical-align: middle;\n",
       "    }\n",
       "\n",
       "    .dataframe tbody tr th {\n",
       "        vertical-align: top;\n",
       "    }\n",
       "\n",
       "    .dataframe thead th {\n",
       "        text-align: right;\n",
       "    }\n",
       "</style>\n",
       "<table border=\"1\" class=\"dataframe\">\n",
       "  <thead>\n",
       "    <tr style=\"text-align: right;\">\n",
       "      <th></th>\n",
       "      <th>user_id</th>\n",
       "      <th>item_id</th>\n",
       "      <th>action_id</th>\n",
       "    </tr>\n",
       "  </thead>\n",
       "  <tbody>\n",
       "    <tr>\n",
       "      <th>0</th>\n",
       "      <td>274623</td>\n",
       "      <td>2863</td>\n",
       "      <td>1</td>\n",
       "    </tr>\n",
       "    <tr>\n",
       "      <th>1</th>\n",
       "      <td>265472</td>\n",
       "      <td>343</td>\n",
       "      <td>1</td>\n",
       "    </tr>\n",
       "    <tr>\n",
       "      <th>2</th>\n",
       "      <td>242779</td>\n",
       "      <td>6009</td>\n",
       "      <td>0</td>\n",
       "    </tr>\n",
       "    <tr>\n",
       "      <th>3</th>\n",
       "      <td>275009</td>\n",
       "      <td>2184</td>\n",
       "      <td>1</td>\n",
       "    </tr>\n",
       "    <tr>\n",
       "      <th>4</th>\n",
       "      <td>268104</td>\n",
       "      <td>3134</td>\n",
       "      <td>2</td>\n",
       "    </tr>\n",
       "    <tr>\n",
       "      <th>...</th>\n",
       "      <td>...</td>\n",
       "      <td>...</td>\n",
       "      <td>...</td>\n",
       "    </tr>\n",
       "    <tr>\n",
       "      <th>1205505</th>\n",
       "      <td>286691</td>\n",
       "      <td>2188</td>\n",
       "      <td>1</td>\n",
       "    </tr>\n",
       "    <tr>\n",
       "      <th>1205506</th>\n",
       "      <td>218099</td>\n",
       "      <td>4143</td>\n",
       "      <td>1</td>\n",
       "    </tr>\n",
       "    <tr>\n",
       "      <th>1205507</th>\n",
       "      <td>227599</td>\n",
       "      <td>5391</td>\n",
       "      <td>0</td>\n",
       "    </tr>\n",
       "    <tr>\n",
       "      <th>1205508</th>\n",
       "      <td>278847</td>\n",
       "      <td>4853</td>\n",
       "      <td>1</td>\n",
       "    </tr>\n",
       "    <tr>\n",
       "      <th>1205509</th>\n",
       "      <td>292169</td>\n",
       "      <td>8282</td>\n",
       "      <td>1</td>\n",
       "    </tr>\n",
       "  </tbody>\n",
       "</table>\n",
       "<p>1205510 rows × 3 columns</p>\n",
       "</div>"
      ],
      "text/plain": [
       "         user_id  item_id  action_id\n",
       "0         274623     2863          1\n",
       "1         265472      343          1\n",
       "2         242779     6009          0\n",
       "3         275009     2184          1\n",
       "4         268104     3134          2\n",
       "...          ...      ...        ...\n",
       "1205505   286691     2188          1\n",
       "1205506   218099     4143          1\n",
       "1205507   227599     5391          0\n",
       "1205508   278847     4853          1\n",
       "1205509   292169     8282          1\n",
       "\n",
       "[1205510 rows x 3 columns]"
      ]
     },
     "execution_count": 10,
     "metadata": {},
     "output_type": "execute_result"
    }
   ],
   "source": [
    "sample_c"
   ]
  },
  {
   "cell_type": "code",
   "execution_count": 11,
   "id": "ed664f9b",
   "metadata": {},
   "outputs": [
    {
     "name": "stdout",
     "output_type": "stream",
     "text": [
      "<class 'pandas.core.frame.DataFrame'>\n",
      "RangeIndex: 1205510 entries, 0 to 1205509\n",
      "Data columns (total 3 columns):\n",
      " #   Column     Non-Null Count    Dtype\n",
      "---  ------     --------------    -----\n",
      " 0   user_id    1205510 non-null  int64\n",
      " 1   item_id    1205510 non-null  int64\n",
      " 2   action_id  1205510 non-null  int64\n",
      "dtypes: int64(3)\n",
      "memory usage: 27.6 MB\n"
     ]
    }
   ],
   "source": [
    "sample_c.info()"
   ]
  },
  {
   "cell_type": "markdown",
   "id": "06909954",
   "metadata": {},
   "source": [
    "Пропусков в данных нет, все колонки во всех 3 датасетах одинаковые, количество строк различаются, но разница относительно небольшая"
   ]
  },
  {
   "cell_type": "code",
   "execution_count": 12,
   "id": "730ff443",
   "metadata": {},
   "outputs": [
    {
     "data": {
      "text/plain": [
       "(1000, 2)"
      ]
     },
     "execution_count": 12,
     "metadata": {},
     "output_type": "execute_result"
    }
   ],
   "source": [
    "item_prices.shape"
   ]
  },
  {
   "cell_type": "code",
   "execution_count": 13,
   "id": "072ef266",
   "metadata": {},
   "outputs": [
    {
     "data": {
      "text/html": [
       "<div>\n",
       "<style scoped>\n",
       "    .dataframe tbody tr th:only-of-type {\n",
       "        vertical-align: middle;\n",
       "    }\n",
       "\n",
       "    .dataframe tbody tr th {\n",
       "        vertical-align: top;\n",
       "    }\n",
       "\n",
       "    .dataframe thead th {\n",
       "        text-align: right;\n",
       "    }\n",
       "</style>\n",
       "<table border=\"1\" class=\"dataframe\">\n",
       "  <thead>\n",
       "    <tr style=\"text-align: right;\">\n",
       "      <th></th>\n",
       "      <th>item_id</th>\n",
       "      <th>item_price</th>\n",
       "    </tr>\n",
       "  </thead>\n",
       "  <tbody>\n",
       "    <tr>\n",
       "      <th>0</th>\n",
       "      <td>338</td>\n",
       "      <td>1501</td>\n",
       "    </tr>\n",
       "    <tr>\n",
       "      <th>1</th>\n",
       "      <td>74</td>\n",
       "      <td>647</td>\n",
       "    </tr>\n",
       "    <tr>\n",
       "      <th>2</th>\n",
       "      <td>7696</td>\n",
       "      <td>825</td>\n",
       "    </tr>\n",
       "    <tr>\n",
       "      <th>3</th>\n",
       "      <td>866</td>\n",
       "      <td>875</td>\n",
       "    </tr>\n",
       "    <tr>\n",
       "      <th>4</th>\n",
       "      <td>5876</td>\n",
       "      <td>804</td>\n",
       "    </tr>\n",
       "    <tr>\n",
       "      <th>...</th>\n",
       "      <td>...</td>\n",
       "      <td>...</td>\n",
       "    </tr>\n",
       "    <tr>\n",
       "      <th>995</th>\n",
       "      <td>3463</td>\n",
       "      <td>1300</td>\n",
       "    </tr>\n",
       "    <tr>\n",
       "      <th>996</th>\n",
       "      <td>1573</td>\n",
       "      <td>716</td>\n",
       "    </tr>\n",
       "    <tr>\n",
       "      <th>997</th>\n",
       "      <td>610</td>\n",
       "      <td>1748</td>\n",
       "    </tr>\n",
       "    <tr>\n",
       "      <th>998</th>\n",
       "      <td>4452</td>\n",
       "      <td>386</td>\n",
       "    </tr>\n",
       "    <tr>\n",
       "      <th>999</th>\n",
       "      <td>3071</td>\n",
       "      <td>1824</td>\n",
       "    </tr>\n",
       "  </tbody>\n",
       "</table>\n",
       "<p>1000 rows × 2 columns</p>\n",
       "</div>"
      ],
      "text/plain": [
       "     item_id  item_price\n",
       "0        338        1501\n",
       "1         74         647\n",
       "2       7696         825\n",
       "3        866         875\n",
       "4       5876         804\n",
       "..       ...         ...\n",
       "995     3463        1300\n",
       "996     1573         716\n",
       "997      610        1748\n",
       "998     4452         386\n",
       "999     3071        1824\n",
       "\n",
       "[1000 rows x 2 columns]"
      ]
     },
     "execution_count": 13,
     "metadata": {},
     "output_type": "execute_result"
    }
   ],
   "source": [
    "item_prices"
   ]
  },
  {
   "cell_type": "code",
   "execution_count": 14,
   "id": "b3fe1fdd",
   "metadata": {
    "scrolled": true
   },
   "outputs": [
    {
     "name": "stdout",
     "output_type": "stream",
     "text": [
      "<class 'pandas.core.frame.DataFrame'>\n",
      "RangeIndex: 1000 entries, 0 to 999\n",
      "Data columns (total 2 columns):\n",
      " #   Column      Non-Null Count  Dtype\n",
      "---  ------      --------------  -----\n",
      " 0   item_id     1000 non-null   int64\n",
      " 1   item_price  1000 non-null   int64\n",
      "dtypes: int64(2)\n",
      "memory usage: 15.8 KB\n"
     ]
    }
   ],
   "source": [
    "item_prices.info()"
   ]
  },
  {
   "cell_type": "markdown",
   "id": "174f1a97",
   "metadata": {},
   "source": [
    "## Preprocessing"
   ]
  },
  {
   "cell_type": "code",
   "execution_count": 15,
   "id": "fb519498",
   "metadata": {},
   "outputs": [
    {
     "data": {
      "text/plain": [
       "Series([], dtype: int64)"
      ]
     },
     "execution_count": 15,
     "metadata": {},
     "output_type": "execute_result"
    }
   ],
   "source": [
    "item_prices[item_prices.duplicated()].value_counts()"
   ]
  },
  {
   "cell_type": "code",
   "execution_count": 16,
   "id": "8356b883",
   "metadata": {},
   "outputs": [
    {
     "data": {
      "text/plain": [
       "(1000, 2)"
      ]
     },
     "execution_count": 16,
     "metadata": {},
     "output_type": "execute_result"
    }
   ],
   "source": [
    "item_prices.shape"
   ]
  },
  {
   "cell_type": "code",
   "execution_count": 17,
   "id": "3805d2c2",
   "metadata": {},
   "outputs": [
    {
     "data": {
      "text/plain": [
       "(955, 2)"
      ]
     },
     "execution_count": 17,
     "metadata": {},
     "output_type": "execute_result"
    }
   ],
   "source": [
    "item_prices = item_prices.groupby(['item_id']).max()\n",
    "item_prices['item_id'] = item_prices.index\n",
    "item_prices = item_prices.reset_index(drop=True)\n",
    "item_prices.shape"
   ]
  },
  {
   "cell_type": "code",
   "execution_count": 18,
   "id": "468308a5",
   "metadata": {
    "scrolled": true
   },
   "outputs": [
    {
     "data": {
      "text/html": [
       "<div>\n",
       "<style scoped>\n",
       "    .dataframe tbody tr th:only-of-type {\n",
       "        vertical-align: middle;\n",
       "    }\n",
       "\n",
       "    .dataframe tbody tr th {\n",
       "        vertical-align: top;\n",
       "    }\n",
       "\n",
       "    .dataframe thead th {\n",
       "        text-align: right;\n",
       "    }\n",
       "</style>\n",
       "<table border=\"1\" class=\"dataframe\">\n",
       "  <thead>\n",
       "    <tr style=\"text-align: right;\">\n",
       "      <th></th>\n",
       "      <th>item_price</th>\n",
       "      <th>item_id</th>\n",
       "    </tr>\n",
       "  </thead>\n",
       "  <tbody>\n",
       "    <tr>\n",
       "      <th>0</th>\n",
       "      <td>452</td>\n",
       "      <td>21</td>\n",
       "    </tr>\n",
       "    <tr>\n",
       "      <th>1</th>\n",
       "      <td>282</td>\n",
       "      <td>36</td>\n",
       "    </tr>\n",
       "    <tr>\n",
       "      <th>2</th>\n",
       "      <td>1746</td>\n",
       "      <td>39</td>\n",
       "    </tr>\n",
       "    <tr>\n",
       "      <th>3</th>\n",
       "      <td>871</td>\n",
       "      <td>50</td>\n",
       "    </tr>\n",
       "    <tr>\n",
       "      <th>4</th>\n",
       "      <td>1479</td>\n",
       "      <td>64</td>\n",
       "    </tr>\n",
       "    <tr>\n",
       "      <th>...</th>\n",
       "      <td>...</td>\n",
       "      <td>...</td>\n",
       "    </tr>\n",
       "    <tr>\n",
       "      <th>950</th>\n",
       "      <td>379</td>\n",
       "      <td>9936</td>\n",
       "    </tr>\n",
       "    <tr>\n",
       "      <th>951</th>\n",
       "      <td>810</td>\n",
       "      <td>9944</td>\n",
       "    </tr>\n",
       "    <tr>\n",
       "      <th>952</th>\n",
       "      <td>265</td>\n",
       "      <td>9958</td>\n",
       "    </tr>\n",
       "    <tr>\n",
       "      <th>953</th>\n",
       "      <td>479</td>\n",
       "      <td>9989</td>\n",
       "    </tr>\n",
       "    <tr>\n",
       "      <th>954</th>\n",
       "      <td>1440</td>\n",
       "      <td>9994</td>\n",
       "    </tr>\n",
       "  </tbody>\n",
       "</table>\n",
       "<p>955 rows × 2 columns</p>\n",
       "</div>"
      ],
      "text/plain": [
       "     item_price  item_id\n",
       "0           452       21\n",
       "1           282       36\n",
       "2          1746       39\n",
       "3           871       50\n",
       "4          1479       64\n",
       "..          ...      ...\n",
       "950         379     9936\n",
       "951         810     9944\n",
       "952         265     9958\n",
       "953         479     9989\n",
       "954        1440     9994\n",
       "\n",
       "[955 rows x 2 columns]"
      ]
     },
     "execution_count": 18,
     "metadata": {},
     "output_type": "execute_result"
    }
   ],
   "source": [
    "item_prices"
   ]
  },
  {
   "cell_type": "code",
   "execution_count": 19,
   "id": "9a326a11",
   "metadata": {},
   "outputs": [
    {
     "data": {
      "text/plain": [
       "Series([], dtype: int64)"
      ]
     },
     "execution_count": 19,
     "metadata": {},
     "output_type": "execute_result"
    }
   ],
   "source": [
    "sample_a[sample_a.duplicated()].value_counts()"
   ]
  },
  {
   "cell_type": "code",
   "execution_count": 20,
   "id": "328d9eda",
   "metadata": {
    "scrolled": true
   },
   "outputs": [
    {
     "data": {
      "text/plain": [
       "1    951130\n",
       "0    190226\n",
       "2     47556\n",
       "Name: action_id, dtype: int64"
      ]
     },
     "execution_count": 20,
     "metadata": {},
     "output_type": "execute_result"
    }
   ],
   "source": [
    "sample_a['action_id'].value_counts()"
   ]
  },
  {
   "cell_type": "code",
   "execution_count": 21,
   "id": "f7788815",
   "metadata": {},
   "outputs": [
    {
     "data": {
      "text/plain": [
       "Series([], dtype: int64)"
      ]
     },
     "execution_count": 21,
     "metadata": {},
     "output_type": "execute_result"
    }
   ],
   "source": [
    "sample_b[sample_b.duplicated()].value_counts()"
   ]
  },
  {
   "cell_type": "code",
   "execution_count": 22,
   "id": "ef72e0ff",
   "metadata": {
    "scrolled": true
   },
   "outputs": [
    {
     "data": {
      "text/plain": [
       "1    951141\n",
       "0    152183\n",
       "2     95114\n",
       "Name: action_id, dtype: int64"
      ]
     },
     "execution_count": 22,
     "metadata": {},
     "output_type": "execute_result"
    }
   ],
   "source": [
    "sample_b['action_id'].value_counts()"
   ]
  },
  {
   "cell_type": "code",
   "execution_count": 23,
   "id": "057b4a32",
   "metadata": {},
   "outputs": [
    {
     "data": {
      "text/plain": [
       "Series([], dtype: int64)"
      ]
     },
     "execution_count": 23,
     "metadata": {},
     "output_type": "execute_result"
    }
   ],
   "source": [
    "sample_c[sample_c.duplicated()].value_counts()"
   ]
  },
  {
   "cell_type": "code",
   "execution_count": 24,
   "id": "cafec7b8",
   "metadata": {},
   "outputs": [
    {
     "data": {
      "text/plain": [
       "1    949221\n",
       "0    199336\n",
       "2     56953\n",
       "Name: action_id, dtype: int64"
      ]
     },
     "execution_count": 24,
     "metadata": {},
     "output_type": "execute_result"
    }
   ],
   "source": [
    "sample_c['action_id'].value_counts()"
   ]
  },
  {
   "cell_type": "code",
   "execution_count": 25,
   "id": "46844229",
   "metadata": {},
   "outputs": [],
   "source": [
    "#Visualisation\n",
    "\n",
    "sample_set = [sample_a, sample_b, sample_c]\n",
    "\n",
    "actions_dict = {0: 'click',\n",
    "                1: 'browse',\n",
    "                2: 'purchase'}\n",
    "\n",
    "for data in sample_set:\n",
    "    data['action'] = data['action_id'].map(actions_dict)\n",
    "    \n",
    "#Sample A\n",
    "actions = sample_a.action.value_counts().index.tolist()\n",
    "counts = sample_a.action.value_counts().values.tolist()\n",
    "\n",
    "df_sample_a = {'action': actions,\n",
    "                'count': counts,\n",
    "                'sample': 'Sample A'}\n",
    "\n",
    "df_sample_a = pd.DataFrame(df_sample_a)\n",
    "\n",
    "#Sample B\n",
    "actions = sample_b.action.value_counts().index.tolist()\n",
    "counts = sample_b.action.value_counts().values.tolist()\n",
    "\n",
    "df_sample_b = {'action': actions,\n",
    "                'count': counts,\n",
    "                'sample': 'Sample B'}\n",
    "\n",
    "df_sample_b = pd.DataFrame(df_sample_b)\n",
    "\n",
    "#Sample C\n",
    "actions = sample_c.action.value_counts().index.tolist()\n",
    "counts = sample_c.action.value_counts().values.tolist()\n",
    "\n",
    "df_sample_c = {'action': actions,\n",
    "                'count': counts,\n",
    "                'sample': 'Sample C'}\n",
    "\n",
    "df_sample_c = pd.DataFrame(df_sample_c)\n",
    "\n",
    "#Concatenation\n",
    "df_full = pd.concat([df_sample_a, df_sample_b, df_sample_c]).reset_index(drop=True)"
   ]
  },
  {
   "cell_type": "code",
   "execution_count": 53,
   "id": "11a0d6e9",
   "metadata": {},
   "outputs": [
    {
     "data": {
      "text/plain": [
       "[Text(0.5, 1.0, 'User actions distribution')]"
      ]
     },
     "execution_count": 53,
     "metadata": {},
     "output_type": "execute_result"
    },
    {
     "data": {
      "image/png": "[encoded data removed]",
      "text/plain": [
       "<Figure size 576x432 with 1 Axes>"
      ]
     },
     "metadata": {
      "needs_background": "light"
     },
     "output_type": "display_data"
    }
   ],
   "source": [
    "f, ax = plt.subplots(figsize=(8, 6))\n",
    "sns.barplot(x=\"sample\",\n",
    "            y=\"count\",\n",
    "            hue=\"action\",\n",
    "            data=df_full,\n",
    "            palette=\"Set2\").set(title=\"User actions distribution\")"
   ]
  },
  {
   "cell_type": "markdown",
   "id": "c8460d0b",
   "metadata": {},
   "source": [
    "Как можно заметить, количество просмотров во всех датасетах везде очень высоко и примерно одинакво. В группе B гораздо больше покупок, при меньшем количестве кликов.\n",
    "\n",
    "Проверим правильность последовательности действий: просмотр-клик-покупка"
   ]
  },
  {
   "cell_type": "code",
   "execution_count": null,
   "id": "1821740f",
   "metadata": {},
   "outputs": [],
   "source": []
  },
  {
   "cell_type": "code",
   "execution_count": 27,
   "id": "c9efa939",
   "metadata": {},
   "outputs": [],
   "source": [
    "def get_pivot(data):\n",
    "    \n",
    "    #Pivoting\n",
    "    piv_t = pd.pivot_table(data,\n",
    "                              values='action_id',\n",
    "                              index=['user_id', 'item_id'],\n",
    "                              columns=['action'])\n",
    "    \n",
    "    #Indexing\n",
    "    cols = ['user_id', 'item_id', 'browse', 'click', 'purchase']\n",
    "    piv_t['user_id'] = piv_t.index.get_level_values(0)\n",
    "    piv_t['item_id'] = piv_t.index.get_level_values(1)\n",
    "    piv_t = piv_t.reset_index(drop=True)\n",
    "    piv_t = piv_t.reindex(columns=cols)\n",
    "    \n",
    "    return piv_t\n",
    "\n",
    "#Sample A\n",
    "sample_a_piv = get_pivot(sample_a)\n",
    "\n",
    "#Sample B\n",
    "sample_b_piv = get_pivot(sample_b)\n",
    "\n",
    "#Sample C\n",
    "sample_c_piv = get_pivot(sample_c)"
   ]
  },
  {
   "cell_type": "code",
   "execution_count": 28,
   "id": "33ee66fa",
   "metadata": {},
   "outputs": [
    {
     "name": "stdout",
     "output_type": "stream",
     "text": [
      "<class 'pandas.core.frame.DataFrame'>\n",
      "RangeIndex: 951130 entries, 0 to 951129\n",
      "Data columns (total 5 columns):\n",
      " #   Column    Non-Null Count   Dtype  \n",
      "---  ------    --------------   -----  \n",
      " 0   user_id   951130 non-null  int64  \n",
      " 1   item_id   951130 non-null  int64  \n",
      " 2   browse    951130 non-null  float64\n",
      " 3   click     190226 non-null  float64\n",
      " 4   purchase  47556 non-null   float64\n",
      "dtypes: float64(3), int64(2)\n",
      "memory usage: 36.3 MB\n"
     ]
    }
   ],
   "source": [
    "sample_a_piv.info()"
   ]
  },
  {
   "cell_type": "code",
   "execution_count": 29,
   "id": "3032e085",
   "metadata": {},
   "outputs": [
    {
     "name": "stdout",
     "output_type": "stream",
     "text": [
      "<class 'pandas.core.frame.DataFrame'>\n",
      "RangeIndex: 951141 entries, 0 to 951140\n",
      "Data columns (total 5 columns):\n",
      " #   Column    Non-Null Count   Dtype  \n",
      "---  ------    --------------   -----  \n",
      " 0   user_id   951141 non-null  int64  \n",
      " 1   item_id   951141 non-null  int64  \n",
      " 2   browse    951141 non-null  float64\n",
      " 3   click     152183 non-null  float64\n",
      " 4   purchase  95114 non-null   float64\n",
      "dtypes: float64(3), int64(2)\n",
      "memory usage: 36.3 MB\n"
     ]
    }
   ],
   "source": [
    "sample_b_piv.info()"
   ]
  },
  {
   "cell_type": "code",
   "execution_count": 30,
   "id": "f7322003",
   "metadata": {},
   "outputs": [
    {
     "name": "stdout",
     "output_type": "stream",
     "text": [
      "<class 'pandas.core.frame.DataFrame'>\n",
      "RangeIndex: 949221 entries, 0 to 949220\n",
      "Data columns (total 5 columns):\n",
      " #   Column    Non-Null Count   Dtype  \n",
      "---  ------    --------------   -----  \n",
      " 0   user_id   949221 non-null  int64  \n",
      " 1   item_id   949221 non-null  int64  \n",
      " 2   browse    949221 non-null  float64\n",
      " 3   click     199336 non-null  float64\n",
      " 4   purchase  56953 non-null   float64\n",
      "dtypes: float64(3), int64(2)\n",
      "memory usage: 36.2 MB\n"
     ]
    }
   ],
   "source": [
    "sample_c_piv.info()"
   ]
  },
  {
   "cell_type": "markdown",
   "id": "e90f930d",
   "metadata": {},
   "source": [
    "Первое действие - это всегда просмотр, судя по отсутствию пропусков в данных колонках, нарушений на этом шаге нет."
   ]
  },
  {
   "cell_type": "code",
   "execution_count": 31,
   "id": "6be52c38",
   "metadata": {},
   "outputs": [],
   "source": [
    "sample_a_piv = sample_a_piv.merge(item_prices, how='left', on='item_id')\n",
    "sample_b_piv = sample_b_piv.merge(item_prices, how='left', on='item_id')\n",
    "sample_c_piv = sample_c_piv.merge(item_prices, how='left', on='item_id')"
   ]
  },
  {
   "cell_type": "markdown",
   "id": "f9bbfd1a",
   "metadata": {},
   "source": [
    "## Metrics"
   ]
  },
  {
   "cell_type": "markdown",
   "id": "70ad0ae9",
   "metadata": {},
   "source": [
    "Согласно заданию, маркетплейс ориентируется на следующие метрики:\n",
    "\n",
    "ctr (отношение кликов к просмотрам товаров);\n",
    "\n",
    "purchase rate (отношение покупок к просмотрам товаров);\n",
    "\n",
    "gmv (оборот, сумма произведений количества покупок на стоимость покупки), где считаем 1 сессию за 1 точку (1 сессия на 1 пользователя).\n",
    "\n",
    "Добавим ещё количество уникальных покупателей и среднюю цену в каждом сампле"
   ]
  },
  {
   "cell_type": "code",
   "execution_count": 32,
   "id": "5d343230",
   "metadata": {},
   "outputs": [],
   "source": [
    "def get_ctr(data):\n",
    "    ctr = len(data[~data.click.isna()])/len(data)\n",
    "    return ctr\n",
    "def get_purchase_rate(data):\n",
    "    rate = len(data[~data.purchase.isna()])/len(data)\n",
    "    return rate\n",
    "def get_gmv(data):\n",
    "    gmv = data[~data.purchase.isna()]['item_price'].sum()\n",
    "    return gmv"
   ]
  },
  {
   "cell_type": "code",
   "execution_count": 33,
   "id": "56ac7e06",
   "metadata": {},
   "outputs": [],
   "source": [
    "ctr_a = round(get_ctr(sample_a_piv), 2)\n",
    "rate_a = round(get_purchase_rate(sample_a_piv), 2)\n",
    "gmv_a = get_gmv(sample_a_piv)\n",
    "users_a = len(sample_a_piv.user_id.unique())\n",
    "av_price_a = round((gmv_a/len(sample_a_piv.item_id.unique())), 2)"
   ]
  },
  {
   "cell_type": "code",
   "execution_count": 34,
   "id": "96ac8167",
   "metadata": {},
   "outputs": [],
   "source": [
    "ctr_b = round(get_ctr(sample_b_piv), 2)\n",
    "rate_b = round(get_purchase_rate(sample_b_piv), 2)\n",
    "gmv_b = get_gmv(sample_b_piv)\n",
    "users_b = len(sample_b_piv.user_id.unique())\n",
    "av_price_b = round((gmv_b/len(sample_b_piv.item_id.unique())), 2)"
   ]
  },
  {
   "cell_type": "code",
   "execution_count": 35,
   "id": "d1da4c49",
   "metadata": {},
   "outputs": [],
   "source": [
    "ctr_c = round(get_ctr(sample_c_piv), 2)\n",
    "rate_c = round(get_purchase_rate(sample_c_piv), 2)\n",
    "gmv_c = get_gmv(sample_c_piv)\n",
    "users_c = len(sample_c_piv.user_id.unique())\n",
    "av_price_c = round((gmv_c/len(sample_c_piv.item_id.unique())), 2)"
   ]
  },
  {
   "cell_type": "code",
   "execution_count": 36,
   "id": "8b520d97",
   "metadata": {},
   "outputs": [
    {
     "data": {
      "text/html": [
       "<div>\n",
       "<style scoped>\n",
       "    .dataframe tbody tr th:only-of-type {\n",
       "        vertical-align: middle;\n",
       "    }\n",
       "\n",
       "    .dataframe tbody tr th {\n",
       "        vertical-align: top;\n",
       "    }\n",
       "\n",
       "    .dataframe thead th {\n",
       "        text-align: right;\n",
       "    }\n",
       "</style>\n",
       "<table border=\"1\" class=\"dataframe\">\n",
       "  <thead>\n",
       "    <tr style=\"text-align: right;\">\n",
       "      <th></th>\n",
       "      <th>sample</th>\n",
       "      <th>users</th>\n",
       "      <th>ctr</th>\n",
       "      <th>purchase_rate</th>\n",
       "      <th>gmv</th>\n",
       "      <th>av_price</th>\n",
       "    </tr>\n",
       "  </thead>\n",
       "  <tbody>\n",
       "    <tr>\n",
       "      <th>0</th>\n",
       "      <td>Sample A</td>\n",
       "      <td>996</td>\n",
       "      <td>0.20</td>\n",
       "      <td>0.05</td>\n",
       "      <td>51525951</td>\n",
       "      <td>53953.88</td>\n",
       "    </tr>\n",
       "    <tr>\n",
       "      <th>1</th>\n",
       "      <td>Sample B</td>\n",
       "      <td>996</td>\n",
       "      <td>0.16</td>\n",
       "      <td>0.10</td>\n",
       "      <td>102930498</td>\n",
       "      <td>107780.63</td>\n",
       "    </tr>\n",
       "    <tr>\n",
       "      <th>2</th>\n",
       "      <td>Sample C</td>\n",
       "      <td>994</td>\n",
       "      <td>0.21</td>\n",
       "      <td>0.06</td>\n",
       "      <td>61663209</td>\n",
       "      <td>64568.81</td>\n",
       "    </tr>\n",
       "  </tbody>\n",
       "</table>\n",
       "</div>"
      ],
      "text/plain": [
       "     sample  users   ctr  purchase_rate        gmv   av_price\n",
       "0  Sample A    996  0.20           0.05   51525951   53953.88\n",
       "1  Sample B    996  0.16           0.10  102930498  107780.63\n",
       "2  Sample C    994  0.21           0.06   61663209   64568.81"
      ]
     },
     "execution_count": 36,
     "metadata": {},
     "output_type": "execute_result"
    }
   ],
   "source": [
    "metrics = {'sample': ['Sample A', 'Sample B', 'Sample C'],\n",
    "              'users': [users_a, users_b, users_c],\n",
    "              'ctr': [ctr_a, ctr_b, ctr_c],\n",
    "              'purchase_rate': [rate_a, rate_b, rate_c],\n",
    "              'gmv': [gmv_a, gmv_b, gmv_c],\n",
    "              'av_price': [av_price_a, av_price_b, av_price_c]}\n",
    "\n",
    "metrics = pd.DataFrame(metrics)\n",
    "metrics"
   ]
  },
  {
   "cell_type": "code",
   "execution_count": 37,
   "id": "48319149",
   "metadata": {},
   "outputs": [
    {
     "name": "stderr",
     "output_type": "stream",
     "text": [
      "<ipython-input-37-88df82c7955f>:33: UserWarning: Matplotlib is currently using module://ipykernel.pylab.backend_inline, which is a non-GUI backend, so cannot show the figure.\n",
      "  f.show()\n"
     ]
    },
    {
     "data": {
      "image/png": "[encoded data removed]",
      "text/plain": [
       "<Figure size 2160x432 with 5 Axes>"
      ]
     },
     "metadata": {
      "needs_background": "light"
     },
     "output_type": "display_data"
    }
   ],
   "source": [
    "f, axs = plt.subplots(1,5, figsize=(30, 6))\n",
    "\n",
    "sns.barplot(ax=axs[0],\n",
    "            x=\"sample\",\n",
    "            y=\"users\",\n",
    "            data=metrics,\n",
    "            palette=\"Set2\").set(title=\"Users\")\n",
    "\n",
    "sns.barplot(ax=axs[1],\n",
    "            x=\"sample\",\n",
    "            y=\"ctr\",\n",
    "            data=metrics,\n",
    "            palette=\"Set2\").set(title=\"CTR\")\n",
    "\n",
    "sns.barplot(ax=axs[2],\n",
    "            x=\"sample\",\n",
    "            y=\"purchase_rate\",\n",
    "            data=metrics,\n",
    "            palette=\"Set2\").set(title=\"Purchase rate\")\n",
    "\n",
    "sns.barplot(ax=axs[3],\n",
    "            x=\"sample\",\n",
    "            y=\"gmv\",\n",
    "            data=metrics,\n",
    "            palette=\"Set2\").set(title=\"GMV\")\n",
    "\n",
    "sns.barplot(ax=axs[4],\n",
    "            x=\"sample\",\n",
    "            y=\"av_price\",\n",
    "            data=metrics,\n",
    "            palette=\"Set2\").set(title=\"Average price\")\n",
    "\n",
    "f.show()"
   ]
  },
  {
   "cell_type": "markdown",
   "id": "c7d20967",
   "metadata": {},
   "source": [
    "Согласноусловиям данного задания, выборка А и выборка С должны быть идентичны с точки зрения метрик, так как являются тестовыми группами A/A. Они конечно сопоставимы, но gmv и средняя цена в выборке C примерно на 20% выше, что указывает на неравенство распределения по группам.\n",
    "\n",
    "Образец B явно отличается от двух других с точки зрения показателей: ctr меньше примерно на 20%, но коэффициент покупок и gmv почти в 2 раза больше! В то же время количество пользователей совпадает с другими группами.\n",
    "\n",
    "То есть, они быстрее покупают понравившийся им товар, и эти товары значительно дороже, чем в других группах.\n",
    "\n",
    "Алгоритм B значительно повышает производительность торговой площадки."
   ]
  },
  {
   "cell_type": "markdown",
   "id": "064be400",
   "metadata": {},
   "source": [
    "## Statistical data\n",
    "\n",
    "Заменим все nan нулём, а остальное единицами"
   ]
  },
  {
   "cell_type": "code",
   "execution_count": 38,
   "id": "16e093f5",
   "metadata": {},
   "outputs": [],
   "source": [
    "def get_replace(data):\n",
    "    data['browse'] = data['browse'].apply(lambda x: 1 if math.isnan(x)==False else 0)\n",
    "    data['click'] = data['click'].apply(lambda x: 1 if math.isnan(x)==False else 0)\n",
    "    data['purchase'] = data['purchase'].apply(lambda x: 1 if math.isnan(x)==False else 0)\n",
    "    return (data)\n",
    "def get_user_m(data):\n",
    "    need_cols = ['user_id', 'browse', 'click', 'purchase', 'purchase_cost']\n",
    "    data_users = data[need_cols].groupby('user_id').sum()\n",
    "    data_users['ctr'] = data_users['click']/data_users['browse']\n",
    "    data_users['purchase_rate'] = data_users['purchase']/data_users['browse']\n",
    "    data_users['gmv'] = data_users['purchase_cost']\n",
    "    \n",
    "    return data_users\n",
    "def distr(data):\n",
    "    alpha = 0.01\n",
    "    test_df['ctr_distr'] = test_df['ctr_test'].apply(lambda x: 'norm' if x>alpha else 'not')\n",
    "    test_df['purchase_rate_distr'] = test_df['purchase_rate_test'].apply(lambda x: 'norm' if x>alpha else 'not')\n",
    "    test_df['gmv_distr'] = test_df['gmv_test'].apply(lambda x: 'norm' if x>alpha else 'not')\n",
    "    return test_df"
   ]
  },
  {
   "cell_type": "code",
   "execution_count": 39,
   "id": "6bc07c29",
   "metadata": {},
   "outputs": [],
   "source": [
    "#Sample A\n",
    "sample_a_piv = get_replace(sample_a_piv)\n",
    "\n",
    "#Sample B\n",
    "sample_b_piv = get_replace(sample_b_piv)\n",
    "\n",
    "#Sample C\n",
    "sample_c_piv = get_replace(sample_c_piv)"
   ]
  },
  {
   "cell_type": "code",
   "execution_count": 40,
   "id": "17abd9d7",
   "metadata": {},
   "outputs": [],
   "source": [
    "sample_a_piv['purchase_cost'] = sample_a_piv['purchase']*sample_a_piv['item_price']\n",
    "sample_b_piv['purchase_cost'] = sample_b_piv['purchase']*sample_b_piv['item_price']\n",
    "sample_c_piv['purchase_cost'] = sample_c_piv['purchase']*sample_c_piv['item_price']"
   ]
  },
  {
   "cell_type": "code",
   "execution_count": 41,
   "id": "cfb04e28",
   "metadata": {},
   "outputs": [],
   "source": [
    "users_a = get_user_m(sample_a_piv)\n",
    "users_b = get_user_m(sample_b_piv)\n",
    "users_c = get_user_m(sample_c_piv)"
   ]
  },
  {
   "cell_type": "code",
   "execution_count": 42,
   "id": "59feebcc",
   "metadata": {},
   "outputs": [
    {
     "data": {
      "text/html": [
       "<div>\n",
       "<style scoped>\n",
       "    .dataframe tbody tr th:only-of-type {\n",
       "        vertical-align: middle;\n",
       "    }\n",
       "\n",
       "    .dataframe tbody tr th {\n",
       "        vertical-align: top;\n",
       "    }\n",
       "\n",
       "    .dataframe thead th {\n",
       "        text-align: right;\n",
       "    }\n",
       "</style>\n",
       "<table border=\"1\" class=\"dataframe\">\n",
       "  <thead>\n",
       "    <tr style=\"text-align: right;\">\n",
       "      <th></th>\n",
       "      <th>browse</th>\n",
       "      <th>click</th>\n",
       "      <th>purchase</th>\n",
       "      <th>purchase_cost</th>\n",
       "      <th>ctr</th>\n",
       "      <th>purchase_rate</th>\n",
       "      <th>gmv</th>\n",
       "    </tr>\n",
       "    <tr>\n",
       "      <th>user_id</th>\n",
       "      <th></th>\n",
       "      <th></th>\n",
       "      <th></th>\n",
       "      <th></th>\n",
       "      <th></th>\n",
       "      <th></th>\n",
       "      <th></th>\n",
       "    </tr>\n",
       "  </thead>\n",
       "  <tbody>\n",
       "    <tr>\n",
       "      <th>241</th>\n",
       "      <td>955</td>\n",
       "      <td>179</td>\n",
       "      <td>47</td>\n",
       "      <td>48104</td>\n",
       "      <td>0.187435</td>\n",
       "      <td>0.049215</td>\n",
       "      <td>48104</td>\n",
       "    </tr>\n",
       "    <tr>\n",
       "      <th>253</th>\n",
       "      <td>955</td>\n",
       "      <td>192</td>\n",
       "      <td>37</td>\n",
       "      <td>38676</td>\n",
       "      <td>0.201047</td>\n",
       "      <td>0.038743</td>\n",
       "      <td>38676</td>\n",
       "    </tr>\n",
       "    <tr>\n",
       "      <th>362</th>\n",
       "      <td>955</td>\n",
       "      <td>178</td>\n",
       "      <td>50</td>\n",
       "      <td>60230</td>\n",
       "      <td>0.186387</td>\n",
       "      <td>0.052356</td>\n",
       "      <td>60230</td>\n",
       "    </tr>\n",
       "    <tr>\n",
       "      <th>378</th>\n",
       "      <td>955</td>\n",
       "      <td>195</td>\n",
       "      <td>51</td>\n",
       "      <td>59325</td>\n",
       "      <td>0.204188</td>\n",
       "      <td>0.053403</td>\n",
       "      <td>59325</td>\n",
       "    </tr>\n",
       "    <tr>\n",
       "      <th>475</th>\n",
       "      <td>955</td>\n",
       "      <td>197</td>\n",
       "      <td>50</td>\n",
       "      <td>50680</td>\n",
       "      <td>0.206283</td>\n",
       "      <td>0.052356</td>\n",
       "      <td>50680</td>\n",
       "    </tr>\n",
       "    <tr>\n",
       "      <th>...</th>\n",
       "      <td>...</td>\n",
       "      <td>...</td>\n",
       "      <td>...</td>\n",
       "      <td>...</td>\n",
       "      <td>...</td>\n",
       "      <td>...</td>\n",
       "      <td>...</td>\n",
       "    </tr>\n",
       "    <tr>\n",
       "      <th>99401</th>\n",
       "      <td>955</td>\n",
       "      <td>208</td>\n",
       "      <td>39</td>\n",
       "      <td>37528</td>\n",
       "      <td>0.217801</td>\n",
       "      <td>0.040838</td>\n",
       "      <td>37528</td>\n",
       "    </tr>\n",
       "    <tr>\n",
       "      <th>99543</th>\n",
       "      <td>955</td>\n",
       "      <td>178</td>\n",
       "      <td>43</td>\n",
       "      <td>49150</td>\n",
       "      <td>0.186387</td>\n",
       "      <td>0.045026</td>\n",
       "      <td>49150</td>\n",
       "    </tr>\n",
       "    <tr>\n",
       "      <th>99555</th>\n",
       "      <td>955</td>\n",
       "      <td>196</td>\n",
       "      <td>61</td>\n",
       "      <td>63711</td>\n",
       "      <td>0.205236</td>\n",
       "      <td>0.063874</td>\n",
       "      <td>63711</td>\n",
       "    </tr>\n",
       "    <tr>\n",
       "      <th>99868</th>\n",
       "      <td>955</td>\n",
       "      <td>205</td>\n",
       "      <td>47</td>\n",
       "      <td>46243</td>\n",
       "      <td>0.214660</td>\n",
       "      <td>0.049215</td>\n",
       "      <td>46243</td>\n",
       "    </tr>\n",
       "    <tr>\n",
       "      <th>99880</th>\n",
       "      <td>955</td>\n",
       "      <td>173</td>\n",
       "      <td>47</td>\n",
       "      <td>51789</td>\n",
       "      <td>0.181152</td>\n",
       "      <td>0.049215</td>\n",
       "      <td>51789</td>\n",
       "    </tr>\n",
       "  </tbody>\n",
       "</table>\n",
       "<p>996 rows × 7 columns</p>\n",
       "</div>"
      ],
      "text/plain": [
       "         browse  click  purchase  purchase_cost       ctr  purchase_rate  \\\n",
       "user_id                                                                    \n",
       "241         955    179        47          48104  0.187435       0.049215   \n",
       "253         955    192        37          38676  0.201047       0.038743   \n",
       "362         955    178        50          60230  0.186387       0.052356   \n",
       "378         955    195        51          59325  0.204188       0.053403   \n",
       "475         955    197        50          50680  0.206283       0.052356   \n",
       "...         ...    ...       ...            ...       ...            ...   \n",
       "99401       955    208        39          37528  0.217801       0.040838   \n",
       "99543       955    178        43          49150  0.186387       0.045026   \n",
       "99555       955    196        61          63711  0.205236       0.063874   \n",
       "99868       955    205        47          46243  0.214660       0.049215   \n",
       "99880       955    173        47          51789  0.181152       0.049215   \n",
       "\n",
       "           gmv  \n",
       "user_id         \n",
       "241      48104  \n",
       "253      38676  \n",
       "362      60230  \n",
       "378      59325  \n",
       "475      50680  \n",
       "...        ...  \n",
       "99401    37528  \n",
       "99543    49150  \n",
       "99555    63711  \n",
       "99868    46243  \n",
       "99880    51789  \n",
       "\n",
       "[996 rows x 7 columns]"
      ]
     },
     "execution_count": 42,
     "metadata": {},
     "output_type": "execute_result"
    }
   ],
   "source": [
    "users_a"
   ]
  },
  {
   "cell_type": "code",
   "execution_count": 43,
   "id": "efe88710",
   "metadata": {},
   "outputs": [
    {
     "data": {
      "text/html": [
       "<div>\n",
       "<style scoped>\n",
       "    .dataframe tbody tr th:only-of-type {\n",
       "        vertical-align: middle;\n",
       "    }\n",
       "\n",
       "    .dataframe tbody tr th {\n",
       "        vertical-align: top;\n",
       "    }\n",
       "\n",
       "    .dataframe thead th {\n",
       "        text-align: right;\n",
       "    }\n",
       "</style>\n",
       "<table border=\"1\" class=\"dataframe\">\n",
       "  <thead>\n",
       "    <tr style=\"text-align: right;\">\n",
       "      <th></th>\n",
       "      <th>browse</th>\n",
       "      <th>click</th>\n",
       "      <th>purchase</th>\n",
       "      <th>purchase_cost</th>\n",
       "      <th>ctr</th>\n",
       "      <th>purchase_rate</th>\n",
       "      <th>gmv</th>\n",
       "    </tr>\n",
       "    <tr>\n",
       "      <th>user_id</th>\n",
       "      <th></th>\n",
       "      <th></th>\n",
       "      <th></th>\n",
       "      <th></th>\n",
       "      <th></th>\n",
       "      <th></th>\n",
       "      <th></th>\n",
       "    </tr>\n",
       "  </thead>\n",
       "  <tbody>\n",
       "    <tr>\n",
       "      <th>100038</th>\n",
       "      <td>955</td>\n",
       "      <td>167</td>\n",
       "      <td>100</td>\n",
       "      <td>103885</td>\n",
       "      <td>0.174869</td>\n",
       "      <td>0.104712</td>\n",
       "      <td>103885</td>\n",
       "    </tr>\n",
       "    <tr>\n",
       "      <th>100099</th>\n",
       "      <td>955</td>\n",
       "      <td>161</td>\n",
       "      <td>119</td>\n",
       "      <td>130575</td>\n",
       "      <td>0.168586</td>\n",
       "      <td>0.124607</td>\n",
       "      <td>130575</td>\n",
       "    </tr>\n",
       "    <tr>\n",
       "      <th>100164</th>\n",
       "      <td>955</td>\n",
       "      <td>140</td>\n",
       "      <td>98</td>\n",
       "      <td>100946</td>\n",
       "      <td>0.146597</td>\n",
       "      <td>0.102618</td>\n",
       "      <td>100946</td>\n",
       "    </tr>\n",
       "    <tr>\n",
       "      <th>100321</th>\n",
       "      <td>955</td>\n",
       "      <td>180</td>\n",
       "      <td>96</td>\n",
       "      <td>102379</td>\n",
       "      <td>0.188482</td>\n",
       "      <td>0.100524</td>\n",
       "      <td>102379</td>\n",
       "    </tr>\n",
       "    <tr>\n",
       "      <th>100397</th>\n",
       "      <td>955</td>\n",
       "      <td>153</td>\n",
       "      <td>81</td>\n",
       "      <td>92298</td>\n",
       "      <td>0.160209</td>\n",
       "      <td>0.084817</td>\n",
       "      <td>92298</td>\n",
       "    </tr>\n",
       "    <tr>\n",
       "      <th>...</th>\n",
       "      <td>...</td>\n",
       "      <td>...</td>\n",
       "      <td>...</td>\n",
       "      <td>...</td>\n",
       "      <td>...</td>\n",
       "      <td>...</td>\n",
       "      <td>...</td>\n",
       "    </tr>\n",
       "    <tr>\n",
       "      <th>199692</th>\n",
       "      <td>955</td>\n",
       "      <td>151</td>\n",
       "      <td>94</td>\n",
       "      <td>104024</td>\n",
       "      <td>0.158115</td>\n",
       "      <td>0.098429</td>\n",
       "      <td>104024</td>\n",
       "    </tr>\n",
       "    <tr>\n",
       "      <th>199772</th>\n",
       "      <td>955</td>\n",
       "      <td>143</td>\n",
       "      <td>95</td>\n",
       "      <td>100818</td>\n",
       "      <td>0.149738</td>\n",
       "      <td>0.099476</td>\n",
       "      <td>100818</td>\n",
       "    </tr>\n",
       "    <tr>\n",
       "      <th>199784</th>\n",
       "      <td>955</td>\n",
       "      <td>148</td>\n",
       "      <td>92</td>\n",
       "      <td>101050</td>\n",
       "      <td>0.154974</td>\n",
       "      <td>0.096335</td>\n",
       "      <td>101050</td>\n",
       "    </tr>\n",
       "    <tr>\n",
       "      <th>199868</th>\n",
       "      <td>955</td>\n",
       "      <td>159</td>\n",
       "      <td>103</td>\n",
       "      <td>110477</td>\n",
       "      <td>0.166492</td>\n",
       "      <td>0.107853</td>\n",
       "      <td>110477</td>\n",
       "    </tr>\n",
       "    <tr>\n",
       "      <th>199966</th>\n",
       "      <td>955</td>\n",
       "      <td>143</td>\n",
       "      <td>103</td>\n",
       "      <td>126606</td>\n",
       "      <td>0.149738</td>\n",
       "      <td>0.107853</td>\n",
       "      <td>126606</td>\n",
       "    </tr>\n",
       "  </tbody>\n",
       "</table>\n",
       "<p>996 rows × 7 columns</p>\n",
       "</div>"
      ],
      "text/plain": [
       "         browse  click  purchase  purchase_cost       ctr  purchase_rate  \\\n",
       "user_id                                                                    \n",
       "100038      955    167       100         103885  0.174869       0.104712   \n",
       "100099      955    161       119         130575  0.168586       0.124607   \n",
       "100164      955    140        98         100946  0.146597       0.102618   \n",
       "100321      955    180        96         102379  0.188482       0.100524   \n",
       "100397      955    153        81          92298  0.160209       0.084817   \n",
       "...         ...    ...       ...            ...       ...            ...   \n",
       "199692      955    151        94         104024  0.158115       0.098429   \n",
       "199772      955    143        95         100818  0.149738       0.099476   \n",
       "199784      955    148        92         101050  0.154974       0.096335   \n",
       "199868      955    159       103         110477  0.166492       0.107853   \n",
       "199966      955    143       103         126606  0.149738       0.107853   \n",
       "\n",
       "            gmv  \n",
       "user_id          \n",
       "100038   103885  \n",
       "100099   130575  \n",
       "100164   100946  \n",
       "100321   102379  \n",
       "100397    92298  \n",
       "...         ...  \n",
       "199692   104024  \n",
       "199772   100818  \n",
       "199784   101050  \n",
       "199868   110477  \n",
       "199966   126606  \n",
       "\n",
       "[996 rows x 7 columns]"
      ]
     },
     "execution_count": 43,
     "metadata": {},
     "output_type": "execute_result"
    }
   ],
   "source": [
    "users_b"
   ]
  },
  {
   "cell_type": "code",
   "execution_count": 44,
   "id": "3ec4c055",
   "metadata": {},
   "outputs": [
    {
     "data": {
      "text/html": [
       "<div>\n",
       "<style scoped>\n",
       "    .dataframe tbody tr th:only-of-type {\n",
       "        vertical-align: middle;\n",
       "    }\n",
       "\n",
       "    .dataframe tbody tr th {\n",
       "        vertical-align: top;\n",
       "    }\n",
       "\n",
       "    .dataframe thead th {\n",
       "        text-align: right;\n",
       "    }\n",
       "</style>\n",
       "<table border=\"1\" class=\"dataframe\">\n",
       "  <thead>\n",
       "    <tr style=\"text-align: right;\">\n",
       "      <th></th>\n",
       "      <th>browse</th>\n",
       "      <th>click</th>\n",
       "      <th>purchase</th>\n",
       "      <th>purchase_cost</th>\n",
       "      <th>ctr</th>\n",
       "      <th>purchase_rate</th>\n",
       "      <th>gmv</th>\n",
       "    </tr>\n",
       "    <tr>\n",
       "      <th>user_id</th>\n",
       "      <th></th>\n",
       "      <th></th>\n",
       "      <th></th>\n",
       "      <th></th>\n",
       "      <th></th>\n",
       "      <th></th>\n",
       "      <th></th>\n",
       "    </tr>\n",
       "  </thead>\n",
       "  <tbody>\n",
       "    <tr>\n",
       "      <th>200225</th>\n",
       "      <td>955</td>\n",
       "      <td>196</td>\n",
       "      <td>49</td>\n",
       "      <td>50795</td>\n",
       "      <td>0.205236</td>\n",
       "      <td>0.051309</td>\n",
       "      <td>50795</td>\n",
       "    </tr>\n",
       "    <tr>\n",
       "      <th>200278</th>\n",
       "      <td>955</td>\n",
       "      <td>203</td>\n",
       "      <td>58</td>\n",
       "      <td>56392</td>\n",
       "      <td>0.212565</td>\n",
       "      <td>0.060733</td>\n",
       "      <td>56392</td>\n",
       "    </tr>\n",
       "    <tr>\n",
       "      <th>200282</th>\n",
       "      <td>955</td>\n",
       "      <td>209</td>\n",
       "      <td>70</td>\n",
       "      <td>82814</td>\n",
       "      <td>0.218848</td>\n",
       "      <td>0.073298</td>\n",
       "      <td>82814</td>\n",
       "    </tr>\n",
       "    <tr>\n",
       "      <th>200325</th>\n",
       "      <td>955</td>\n",
       "      <td>185</td>\n",
       "      <td>44</td>\n",
       "      <td>49660</td>\n",
       "      <td>0.193717</td>\n",
       "      <td>0.046073</td>\n",
       "      <td>49660</td>\n",
       "    </tr>\n",
       "    <tr>\n",
       "      <th>200441</th>\n",
       "      <td>954</td>\n",
       "      <td>202</td>\n",
       "      <td>49</td>\n",
       "      <td>53309</td>\n",
       "      <td>0.211740</td>\n",
       "      <td>0.051363</td>\n",
       "      <td>53309</td>\n",
       "    </tr>\n",
       "    <tr>\n",
       "      <th>...</th>\n",
       "      <td>...</td>\n",
       "      <td>...</td>\n",
       "      <td>...</td>\n",
       "      <td>...</td>\n",
       "      <td>...</td>\n",
       "      <td>...</td>\n",
       "      <td>...</td>\n",
       "    </tr>\n",
       "    <tr>\n",
       "      <th>299616</th>\n",
       "      <td>955</td>\n",
       "      <td>209</td>\n",
       "      <td>54</td>\n",
       "      <td>55608</td>\n",
       "      <td>0.218848</td>\n",
       "      <td>0.056545</td>\n",
       "      <td>55608</td>\n",
       "    </tr>\n",
       "    <tr>\n",
       "      <th>299648</th>\n",
       "      <td>955</td>\n",
       "      <td>205</td>\n",
       "      <td>52</td>\n",
       "      <td>54384</td>\n",
       "      <td>0.214660</td>\n",
       "      <td>0.054450</td>\n",
       "      <td>54384</td>\n",
       "    </tr>\n",
       "    <tr>\n",
       "      <th>299650</th>\n",
       "      <td>955</td>\n",
       "      <td>190</td>\n",
       "      <td>54</td>\n",
       "      <td>58697</td>\n",
       "      <td>0.198953</td>\n",
       "      <td>0.056545</td>\n",
       "      <td>58697</td>\n",
       "    </tr>\n",
       "    <tr>\n",
       "      <th>299672</th>\n",
       "      <td>955</td>\n",
       "      <td>200</td>\n",
       "      <td>50</td>\n",
       "      <td>59823</td>\n",
       "      <td>0.209424</td>\n",
       "      <td>0.052356</td>\n",
       "      <td>59823</td>\n",
       "    </tr>\n",
       "    <tr>\n",
       "      <th>299828</th>\n",
       "      <td>955</td>\n",
       "      <td>208</td>\n",
       "      <td>59</td>\n",
       "      <td>64508</td>\n",
       "      <td>0.217801</td>\n",
       "      <td>0.061780</td>\n",
       "      <td>64508</td>\n",
       "    </tr>\n",
       "  </tbody>\n",
       "</table>\n",
       "<p>994 rows × 7 columns</p>\n",
       "</div>"
      ],
      "text/plain": [
       "         browse  click  purchase  purchase_cost       ctr  purchase_rate  \\\n",
       "user_id                                                                    \n",
       "200225      955    196        49          50795  0.205236       0.051309   \n",
       "200278      955    203        58          56392  0.212565       0.060733   \n",
       "200282      955    209        70          82814  0.218848       0.073298   \n",
       "200325      955    185        44          49660  0.193717       0.046073   \n",
       "200441      954    202        49          53309  0.211740       0.051363   \n",
       "...         ...    ...       ...            ...       ...            ...   \n",
       "299616      955    209        54          55608  0.218848       0.056545   \n",
       "299648      955    205        52          54384  0.214660       0.054450   \n",
       "299650      955    190        54          58697  0.198953       0.056545   \n",
       "299672      955    200        50          59823  0.209424       0.052356   \n",
       "299828      955    208        59          64508  0.217801       0.061780   \n",
       "\n",
       "           gmv  \n",
       "user_id         \n",
       "200225   50795  \n",
       "200278   56392  \n",
       "200282   82814  \n",
       "200325   49660  \n",
       "200441   53309  \n",
       "...        ...  \n",
       "299616   55608  \n",
       "299648   54384  \n",
       "299650   58697  \n",
       "299672   59823  \n",
       "299828   64508  \n",
       "\n",
       "[994 rows x 7 columns]"
      ]
     },
     "execution_count": 44,
     "metadata": {},
     "output_type": "execute_result"
    }
   ],
   "source": [
    "users_c"
   ]
  },
  {
   "cell_type": "code",
   "execution_count": 45,
   "id": "f33bd78d",
   "metadata": {},
   "outputs": [],
   "source": [
    "users_a['sample'] = 'Sample A'\n",
    "users_b['sample'] = 'Sample B'\n",
    "users_c['sample'] = 'Sample C'\n",
    "\n",
    "users = [users_a, users_b, users_c]\n",
    "df_metrics = pd.concat(users)"
   ]
  },
  {
   "cell_type": "code",
   "execution_count": 46,
   "id": "2684bfb3",
   "metadata": {},
   "outputs": [
    {
     "name": "stderr",
     "output_type": "stream",
     "text": [
      "<ipython-input-46-1f114edba440>:21: UserWarning: Matplotlib is currently using module://ipykernel.pylab.backend_inline, which is a non-GUI backend, so cannot show the figure.\n",
      "  f.show()\n"
     ]
    },
    {
     "data": {
      "image/png": "[encoded data removed]",
      "text/plain": [
       "<Figure size 1440x288 with 3 Axes>"
      ]
     },
     "metadata": {
      "needs_background": "light"
     },
     "output_type": "display_data"
    }
   ],
   "source": [
    "f, axs = plt.subplots(1,3, figsize=(20, 4))\n",
    "\n",
    "sns.kdeplot(ax=axs[0],\n",
    "            x=\"ctr\",\n",
    "            hue=\"sample\",\n",
    "            data=df_metrics,\n",
    "            palette=\"Set2\").set(title=\"CTR\")\n",
    "\n",
    "sns.kdeplot(ax=axs[1],\n",
    "            x=\"purchase_rate\",\n",
    "            hue=\"sample\",\n",
    "            data=df_metrics,\n",
    "            palette=\"Set2\").set(title=\"Purchase rate\")\n",
    "\n",
    "sns.kdeplot(ax=axs[2],\n",
    "            x=\"gmv\",\n",
    "            hue=\"sample\",\n",
    "            data=df_metrics,\n",
    "            palette=\"Set2\").set(title=\"GMV\")\n",
    "\n",
    "f.show()"
   ]
  },
  {
   "cell_type": "markdown",
   "id": "fc485144",
   "metadata": {},
   "source": [
    "Как и в более ранних исследованиях видно, что поведение потребителей в sample В существенно отличается от групп А и С. Максимальный CTR одинаков в обеих группах, но средний показатель в выборке В ниже.\n",
    "\n",
    "A и C показывают больше сходства, как и следовало ожидать, но они имеют разные максимальные и средние значения"
   ]
  },
  {
   "cell_type": "code",
   "execution_count": 47,
   "id": "949d1adb",
   "metadata": {},
   "outputs": [
    {
     "data": {
      "text/html": [
       "<div>\n",
       "<style scoped>\n",
       "    .dataframe tbody tr th:only-of-type {\n",
       "        vertical-align: middle;\n",
       "    }\n",
       "\n",
       "    .dataframe tbody tr th {\n",
       "        vertical-align: top;\n",
       "    }\n",
       "\n",
       "    .dataframe thead th {\n",
       "        text-align: right;\n",
       "    }\n",
       "</style>\n",
       "<table border=\"1\" class=\"dataframe\">\n",
       "  <thead>\n",
       "    <tr style=\"text-align: right;\">\n",
       "      <th></th>\n",
       "      <th>sample</th>\n",
       "      <th>ctr_test</th>\n",
       "      <th>purchase_rate_test</th>\n",
       "      <th>gmv_test</th>\n",
       "      <th>ctr_distr</th>\n",
       "      <th>purchase_rate_distr</th>\n",
       "      <th>gmv_distr</th>\n",
       "    </tr>\n",
       "  </thead>\n",
       "  <tbody>\n",
       "    <tr>\n",
       "      <th>0</th>\n",
       "      <td>Sample A</td>\n",
       "      <td>0.024915</td>\n",
       "      <td>0.005959</td>\n",
       "      <td>0.069037</td>\n",
       "      <td>norm</td>\n",
       "      <td>not</td>\n",
       "      <td>norm</td>\n",
       "    </tr>\n",
       "    <tr>\n",
       "      <th>1</th>\n",
       "      <td>Sample B</td>\n",
       "      <td>0.331949</td>\n",
       "      <td>0.232916</td>\n",
       "      <td>0.778033</td>\n",
       "      <td>norm</td>\n",
       "      <td>norm</td>\n",
       "      <td>norm</td>\n",
       "    </tr>\n",
       "    <tr>\n",
       "      <th>2</th>\n",
       "      <td>Sample C</td>\n",
       "      <td>0.171084</td>\n",
       "      <td>0.022773</td>\n",
       "      <td>0.007006</td>\n",
       "      <td>norm</td>\n",
       "      <td>norm</td>\n",
       "      <td>not</td>\n",
       "    </tr>\n",
       "  </tbody>\n",
       "</table>\n",
       "</div>"
      ],
      "text/plain": [
       "     sample  ctr_test  purchase_rate_test  gmv_test ctr_distr  \\\n",
       "0  Sample A  0.024915            0.005959  0.069037      norm   \n",
       "1  Sample B  0.331949            0.232916  0.778033      norm   \n",
       "2  Sample C  0.171084            0.022773  0.007006      norm   \n",
       "\n",
       "  purchase_rate_distr gmv_distr  \n",
       "0                 not      norm  \n",
       "1                norm      norm  \n",
       "2                norm       not  "
      ]
     },
     "metadata": {},
     "output_type": "display_data"
    }
   ],
   "source": [
    "###Shapiro-Wilk test\n",
    "\n",
    "#CTR\n",
    "users_a_CTR = shapiro(users_a.ctr).pvalue\n",
    "users_b_CTR = shapiro(users_b.ctr).pvalue\n",
    "users_c_CTR = shapiro(users_c.ctr).pvalue\n",
    "\n",
    "#purchase_rate\n",
    "users_a_PR = shapiro(users_a.purchase_rate).pvalue\n",
    "users_b_PR = shapiro(users_b.purchase_rate).pvalue\n",
    "users_c_PR = shapiro(users_c.purchase_rate).pvalue\n",
    "\n",
    "#GMV\n",
    "users_a_GMV = shapiro(users_a.gmv).pvalue\n",
    "users_b_GMV = shapiro(users_b.gmv).pvalue\n",
    "users_c_GMV = shapiro(users_c.gmv).pvalue\n",
    "\n",
    "#Making frame\n",
    "test_df = {'sample': ['Sample A', 'Sample B', 'Sample C'],\n",
    "              'ctr_test': [users_a_CTR, users_b_CTR, users_c_CTR],\n",
    "              'purchase_rate_test': [users_a_PR, users_b_PR, users_c_PR],\n",
    "              'gmv_test': [users_a_GMV, users_b_GMV, users_c_GMV]}\n",
    "\n",
    "test_df = pd.DataFrame(test_df)\n",
    "\n",
    "#Evaluate distribution (alpha = 0.01)\n",
    "test_df = distr(test_df)\n",
    "\n",
    "display(test_df)"
   ]
  },
  {
   "cell_type": "markdown",
   "id": "0fbb309d",
   "metadata": {},
   "source": [
    "При оценке распределения с помощью теста Шапиро-Уилка на альфа = 0,01, purchase_rate_distr в sample А и gmv в sample С распределены ненормально.\n",
    "\n",
    "Попробуем нормализовать распределение, отобрав пользователей, совершивших не менее 30 покупок в обеих группах, а затем повторно оценить распределение, используя тот же метод."
   ]
  },
  {
   "cell_type": "code",
   "execution_count": 48,
   "id": "773fccf8",
   "metadata": {},
   "outputs": [
    {
     "data": {
      "text/html": [
       "<div>\n",
       "<style scoped>\n",
       "    .dataframe tbody tr th:only-of-type {\n",
       "        vertical-align: middle;\n",
       "    }\n",
       "\n",
       "    .dataframe tbody tr th {\n",
       "        vertical-align: top;\n",
       "    }\n",
       "\n",
       "    .dataframe thead th {\n",
       "        text-align: right;\n",
       "    }\n",
       "</style>\n",
       "<table border=\"1\" class=\"dataframe\">\n",
       "  <thead>\n",
       "    <tr style=\"text-align: right;\">\n",
       "      <th></th>\n",
       "      <th>sample</th>\n",
       "      <th>ctr_test</th>\n",
       "      <th>purchase_rate_test</th>\n",
       "      <th>gmv_test</th>\n",
       "      <th>ctr_distr</th>\n",
       "      <th>purchase_rate_distr</th>\n",
       "      <th>gmv_distr</th>\n",
       "    </tr>\n",
       "  </thead>\n",
       "  <tbody>\n",
       "    <tr>\n",
       "      <th>0</th>\n",
       "      <td>Sample A</td>\n",
       "      <td>0.028399</td>\n",
       "      <td>0.000757</td>\n",
       "      <td>0.013842</td>\n",
       "      <td>norm</td>\n",
       "      <td>not</td>\n",
       "      <td>norm</td>\n",
       "    </tr>\n",
       "    <tr>\n",
       "      <th>1</th>\n",
       "      <td>Sample B</td>\n",
       "      <td>0.331949</td>\n",
       "      <td>0.232916</td>\n",
       "      <td>0.778033</td>\n",
       "      <td>norm</td>\n",
       "      <td>norm</td>\n",
       "      <td>norm</td>\n",
       "    </tr>\n",
       "    <tr>\n",
       "      <th>2</th>\n",
       "      <td>Sample C</td>\n",
       "      <td>0.171084</td>\n",
       "      <td>0.022773</td>\n",
       "      <td>0.007006</td>\n",
       "      <td>norm</td>\n",
       "      <td>norm</td>\n",
       "      <td>not</td>\n",
       "    </tr>\n",
       "  </tbody>\n",
       "</table>\n",
       "</div>"
      ],
      "text/plain": [
       "     sample  ctr_test  purchase_rate_test  gmv_test ctr_distr  \\\n",
       "0  Sample A  0.028399            0.000757  0.013842      norm   \n",
       "1  Sample B  0.331949            0.232916  0.778033      norm   \n",
       "2  Sample C  0.171084            0.022773  0.007006      norm   \n",
       "\n",
       "  purchase_rate_distr gmv_distr  \n",
       "0                 not      norm  \n",
       "1                norm      norm  \n",
       "2                norm       not  "
      ]
     },
     "metadata": {},
     "output_type": "display_data"
    }
   ],
   "source": [
    "users_a_30 = users_a[users_a['purchase']>=30]\n",
    "users_b_30 = users_b[users_b['purchase']>=30]\n",
    "users_c_30 = users_c[users_c['purchase']>=30]\n",
    "\n",
    "#CTR\n",
    "users_a_CTR = shapiro(users_a_30.ctr).pvalue\n",
    "users_b_CTR = shapiro(users_b_30.ctr).pvalue\n",
    "users_c_CTR = shapiro(users_c_30.ctr).pvalue\n",
    "\n",
    "#purchase_rate\n",
    "users_a_PR = shapiro(users_a_30.purchase_rate).pvalue\n",
    "users_b_PR = shapiro(users_b_30.purchase_rate).pvalue\n",
    "users_c_PR = shapiro(users_c_30.purchase_rate).pvalue\n",
    "\n",
    "#GMV\n",
    "users_a_GMV = shapiro(users_a_30.gmv).pvalue\n",
    "users_b_GMV = shapiro(users_b_30.gmv).pvalue\n",
    "users_c_GMV = shapiro(users_c_30.gmv).pvalue\n",
    "\n",
    "#Making frame\n",
    "test_df = {'sample': ['Sample A', 'Sample B', 'Sample C'],\n",
    "              'ctr_test': [users_a_CTR, users_b_CTR, users_c_CTR],\n",
    "              'purchase_rate_test': [users_a_PR, users_b_PR, users_c_PR],\n",
    "              'gmv_test': [users_a_GMV, users_b_GMV, users_c_GMV]}\n",
    "\n",
    "test_df = pd.DataFrame(test_df)\n",
    "\n",
    "#Evaluate distribution (alpha = 0.01)\n",
    "test_df = distr(test_df)\n",
    "\n",
    "display(test_df)"
   ]
  },
  {
   "cell_type": "markdown",
   "id": "3d9741a4",
   "metadata": {},
   "source": [
    "Даже после попытки нормализовать распределение путем отбора пользователей, совершивших 30 или более покупок в Sample A и Sample C, распределения по показателям purchase_rate в A и gmv в C остались ненормальными, что говорит о том, что эти группы не идентичны друг другу и результаты, полученные по этим выборкам, не могут восприниматься как A / A тестирование."
   ]
  },
  {
   "cell_type": "code",
   "execution_count": 49,
   "id": "ec1b5827",
   "metadata": {},
   "outputs": [
    {
     "name": "stdout",
     "output_type": "stream",
     "text": [
      "2.7522360757339227e-65 7.036894459652539e-198\n"
     ]
    }
   ],
   "source": [
    "#Z-testing, alpha = 0.05\n",
    "\n",
    "#A&C Samples\n",
    "\n",
    "#CTR\n",
    "successes = np.array([users_a_30.click.sum(), users_c_30.click.sum()])\n",
    "samples = np.array([users_a_30.browse.sum(), users_c_30.browse.sum()])\n",
    "\n",
    "stat, ac_ctr = proportions_ztest(count=successes, nobs=samples)\n",
    "\n",
    "#GMV\n",
    "successes = np.array([users_a_30.purchase.sum(), users_c_30.purchase.sum()])\n",
    "samples = np.array([users_a_30.browse.sum(), users_c_30.browse.sum()])\n",
    "\n",
    "stat, ac_purchase = proportions_ztest(count=successes, nobs=samples)\n",
    "\n",
    "print(ac_ctr, ac_purchase)"
   ]
  },
  {
   "cell_type": "code",
   "execution_count": 50,
   "id": "6d4c1eb3",
   "metadata": {},
   "outputs": [
    {
     "name": "stdout",
     "output_type": "stream",
     "text": [
      "0.0 0.0\n"
     ]
    }
   ],
   "source": [
    "#A&B Samples\n",
    "\n",
    "#CTR\n",
    "successes = np.array([users_a_30.click.sum(), users_b_30.click.sum()])\n",
    "samples = np.array([users_a_30.browse.sum(), users_b_30.browse.sum()])\n",
    "\n",
    "stat, ab_ctr = proportions_ztest(count=successes, nobs=samples)\n",
    "\n",
    "#GMV\n",
    "successes = np.array([users_a_30.purchase.sum(), users_b_30.purchase.sum()])\n",
    "samples = np.array([users_a_30.browse.sum(), users_b_30.browse.sum()])\n",
    "\n",
    "stat, ab_purchase = proportions_ztest(count=successes, nobs=samples)\n",
    "\n",
    "print(ab_ctr, ab_purchase)"
   ]
  },
  {
   "cell_type": "markdown",
   "id": "bd5664f2",
   "metadata": {},
   "source": [
    "Как мы видим  поведение пользователей в sample В существенно отличается от остальных."
   ]
  },
  {
   "cell_type": "code",
   "execution_count": 51,
   "id": "c9534e03",
   "metadata": {},
   "outputs": [
    {
     "name": "stdout",
     "output_type": "stream",
     "text": [
      "1.7920723829814243e-63 8.103045015908895e-163 3.1274433527864994e-131\n"
     ]
    }
   ],
   "source": [
    "#T-test, alpha = 0.05\n",
    "#A&C Samples\n",
    "stat, ac_ctr = ttest_ind(users_a_30['ctr'], users_c_30['ctr'])\n",
    "stat, ac_purch = ttest_ind(users_a_30['purchase_rate'], users_c_30['purchase_rate'])\n",
    "stat, ac_gmv = ttest_ind(users_a_30['gmv'], users_c_30['gmv'])\n",
    "\n",
    "print(ac_ctr, ac_purch, ac_gmv)"
   ]
  },
  {
   "cell_type": "code",
   "execution_count": 52,
   "id": "f05a46c9",
   "metadata": {},
   "outputs": [
    {
     "name": "stdout",
     "output_type": "stream",
     "text": [
      "0.0 0.0 0.0\n"
     ]
    }
   ],
   "source": [
    "#A&B Samples\n",
    "stat, ab_ctr = ttest_ind(users_a_30['ctr'], users_b_30['ctr'])\n",
    "stat, ab_purch = ttest_ind(users_a_30['purchase_rate'], users_b_30['purchase_rate'])\n",
    "stat, ab_gmv = ttest_ind(users_a_30['gmv'], users_b_30['gmv'])\n",
    "\n",
    "print(ab_ctr, ab_purch, ab_gmv)"
   ]
  },
  {
   "cell_type": "markdown",
   "id": "39c3f5cf",
   "metadata": {},
   "source": [
    "Во время тестирования sample А и sample С показали большее сходство, чем при математическом анализе и при анализе графиков. Таким образом, мы можем сказать, что тест A/A можно считать успешным.\n",
    "В то же время sample В показывают существенное оличие (как мы видели ранее), то есть алгоритм, который был протестирован в sample В, существенно меняет поведение потребителей и приводит к увеличение прибыли на одного пользователя и оборота в целом. "
   ]
  },
  {
   "cell_type": "code",
   "execution_count": null,
   "id": "2533b2e6",
   "metadata": {},
   "outputs": [],
   "source": []
  },
  {
   "cell_type": "code",
   "execution_count": null,
   "id": "f3cc5b28",
   "metadata": {},
   "outputs": [],
   "source": []
  },
  {
   "cell_type": "code",
   "execution_count": null,
   "id": "06d10732",
   "metadata": {},
   "outputs": [],
   "source": []
  }
 ],
 "metadata": {
  "kernelspec": {
   "display_name": "Python 3",
   "language": "python",
   "name": "python3"
  },
  "language_info": {
   "codemirror_mode": {
    "name": "ipython",
    "version": 3
   },
   "file_extension": ".py",
   "mimetype": "text/x-python",
   "name": "python",
   "nbconvert_exporter": "python",
   "pygments_lexer": "ipython3",
   "version": "3.8.8"
  }
 },
 "nbformat": 4,
 "nbformat_minor": 5
}
