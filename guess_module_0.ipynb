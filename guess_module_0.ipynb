{
 "cells": [
  {
   "cell_type": "code",
   "execution_count": 6,
   "metadata": {},
   "outputs": [
    {
     "name": "stdout",
     "output_type": "stream",
     "text": [
      "Ваш алгоритм угадывает число в среднем за 6 попыток\n"
     ]
    },
    {
     "data": {
      "text/plain": [
       "6"
      ]
     },
     "execution_count": 6,
     "metadata": {},
     "output_type": "execute_result"
    }
   ],
   "source": [
    "import numpy as np\n",
    "number = np.random.randint(1,101)   # asked the number\n",
    "\n",
    "def game_core_v1(number):\n",
    "    '''Just guess at random, without using any information about more or less.\n",
    "        The function takes a given number and returns the number of attempts'''\n",
    "    count = 0\n",
    "    while True:\n",
    "        count+=1\n",
    "        predict = np.random.randint(1,101) # estimated number\n",
    "        if number == predict: \n",
    "            return(count) # exit the loop if guessed right\n",
    "def game_core_v2(number):\n",
    "    '''First, we set any random number, and then decrease or increase it depending on whether it is greater or less than the desired one.\n",
    "        The function takes a given number and returns the number of attempts'''\n",
    "    count = 1\n",
    "    predict = np.random.randint(1,101)\n",
    "    while number != predict:\n",
    "        count+=1\n",
    "        if number > predict: \n",
    "            predict += 1\n",
    "        elif number < predict: \n",
    "            predict -= 1\n",
    "    return(count)\n",
    "\n",
    "def game_core_v3(number):\n",
    "    '''Each step divide on 2 amount of possible number'''\n",
    "    count = 1\n",
    "    first = 1 # The first of possible numbers\n",
    "    last = 100 # The last of possible numbers\n",
    "    middle = (first + last)//2 # Middle of the range of opportunities\n",
    "    while number != middle:\n",
    "        middle = (first + last)//2 # We need to define a variable inside the loop \n",
    "        count += 1\n",
    "        if number > middle:\n",
    "            first = (middle + 1) # Make the range of opportunities twice less and repeat\n",
    "        elif number < middle:\n",
    "            last = (middle - 1) # Make the range of opportunities twice less and repeat\n",
    "    return(count)\n",
    "\n",
    "\n",
    "def score_game(game_core):\n",
    "    '''Run the game 1000 times to see how quickly the game guesses the number '''\n",
    "    count_ls = []\n",
    "    np.random.seed(1)  # Fix RANDOM SEED  to repeat the experiment!\n",
    "    random_array = np.random.randint(1,101, size=(1000))\n",
    "    for number in random_array:\n",
    "        count_ls.append(game_core(number))\n",
    "    score = int(np.mean(count_ls))\n",
    "    print(f\"Ваш алгоритм угадывает число в среднем за {score} попыток\")\n",
    "    return(score)\n",
    "\n",
    "score_game(game_core_v3)\n"
   ]
  },
  {
   "cell_type": "code",
   "execution_count": null,
   "metadata": {},
   "outputs": [],
   "source": []
  }
 ],
 "metadata": {
  "kernelspec": {
   "display_name": "Python 3",
   "language": "python",
   "name": "python3"
  },
  "language_info": {
   "codemirror_mode": {
    "name": "ipython",
    "version": 3
   },
   "file_extension": ".py",
   "mimetype": "text/x-python",
   "name": "python",
   "nbconvert_exporter": "python",
   "pygments_lexer": "ipython3",
   "version": "3.8.5"
  }
 },
 "nbformat": 4,
 "nbformat_minor": 4
}
